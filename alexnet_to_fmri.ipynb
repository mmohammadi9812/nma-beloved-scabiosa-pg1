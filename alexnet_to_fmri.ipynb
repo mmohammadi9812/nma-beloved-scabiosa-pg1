{
 "cells": [
  {
   "cell_type": "code",
   "execution_count": 1,
   "metadata": {},
   "outputs": [],
   "source": [
    "import numpy as np"
   ]
  },
  {
   "cell_type": "code",
   "execution_count": 3,
   "metadata": {},
   "outputs": [
    {
     "name": "stdout",
     "output_type": "stream",
     "text": [
      "(1750,) (1750,)\n"
     ]
    }
   ],
   "source": [
    "alex = np.load('./data/alexnet_features.npy', allow_pickle=True)\n",
    "fmri = np.load('./data/responses.npy', allow_pickle=True)\n",
    "print(alex.shape, fmri.shape)"
   ]
  }
 ],
 "metadata": {
  "kernelspec": {
   "display_name": "nma-beloved-scabiosa-pg1-Z77lC7Bj",
   "language": "python",
   "name": "python3"
  },
  "language_info": {
   "codemirror_mode": {
    "name": "ipython",
    "version": 3
   },
   "file_extension": ".py",
   "mimetype": "text/x-python",
   "name": "python",
   "nbconvert_exporter": "python",
   "pygments_lexer": "ipython3",
   "version": "3.11.9"
  }
 },
 "nbformat": 4,
 "nbformat_minor": 2
}
